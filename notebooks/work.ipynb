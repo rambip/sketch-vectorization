{
 "cells": [
  {
   "cell_type": "code",
   "execution_count": null,
   "id": "c934b0c0",
   "metadata": {
    "vscode": {
     "languageId": "plaintext"
    }
   },
   "outputs": [],
   "source": [
    "from meta import ROOT_DIR\n",
    "from bez.segments import segments\n"
   ]
  }
 ],
 "metadata": {
  "language_info": {
   "name": "python"
  }
 },
 "nbformat": 4,
 "nbformat_minor": 5
}
